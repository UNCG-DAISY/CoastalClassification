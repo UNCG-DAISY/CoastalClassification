{
 "cells": [
  {
   "cell_type": "markdown",
   "metadata": {
    "colab_type": "text",
    "id": "LbNu91He62sc"
   },
   "source": [
    "#### Importing libraries"
   ]
  },
  {
   "cell_type": "code",
   "execution_count": null,
   "metadata": {
    "colab": {},
    "colab_type": "code",
    "id": "PCMdhaObFfDC"
   },
   "outputs": [],
   "source": [
    "import numpy as np\n",
    "import tensorflow as tf\n",
    "import matplotlib.pyplot as plt\n",
    "from sklearn.cluster import KMeans\n",
    "from sklearn.metrics import silhouette_score\n",
    "import cv2\n",
    "import os, glob, shutil"
   ]
  },
  {
   "cell_type": "code",
   "execution_count": null,
   "metadata": {
    "colab": {},
    "colab_type": "code",
    "id": "urWVPtj7rXry"
   },
   "outputs": [],
   "source": [
    "#Path of image data in google drive \n",
    "input_dir = '/content/drive/My Drive/Colab Notebooks/Florence/20180917a_jpgs/resized'\n",
    "glob_dir = input_dir + '/*.jpg'"
   ]
  },
  {
   "cell_type": "markdown",
   "metadata": {},
   "source": [
    "#### Loading images and converting into numpy array"
   ]
  },
  {
   "cell_type": "code",
   "execution_count": null,
   "metadata": {
    "colab": {},
    "colab_type": "code",
    "id": "o_W-IfCxxmR1"
   },
   "outputs": [],
   "source": [
    "images2 = [cv2.resize(cv2.imread(file), (224, 224)) for file in glob.glob(glob_dir)]\n",
    "paths = [file for file in glob.glob(glob_dir)]\n",
    "images2 = np.array(np.float32(images2).reshape(len(images2), -1)/255)"
   ]
  },
  {
   "cell_type": "markdown",
   "metadata": {},
   "source": [
    "#### Clustering the images"
   ]
  },
  {
   "cell_type": "code",
   "execution_count": null,
   "metadata": {
    "colab": {},
    "colab_type": "code",
    "id": "i7QZVqCif1VR"
   },
   "outputs": [],
   "source": [
    "k = 9\n",
    "kmodel = KMeans(n_clusters = k, n_jobs=-1, random_state=728)\n",
    "kmodel.fit(pred_images)\n",
    "kpredictions = kmodel.predict(pred_images)\n",
    "#shutil.rmtree('output')"
   ]
  },
  {
   "cell_type": "code",
   "execution_count": null,
   "metadata": {
    "colab": {},
    "colab_type": "code",
    "id": "uJ4ocz0aSBl6"
   },
   "outputs": [],
   "source": [
    "for i in range(k):\n",
    "    os.makedirs(\"/content/drive/My Drive/Colab Notebooks/Florence/20180917a_jpgs/\" + str(i))"
   ]
  },
  {
   "cell_type": "code",
   "execution_count": null,
   "metadata": {
    "colab": {},
    "colab_type": "code",
    "id": "rIdzIWGUS9Xh"
   },
   "outputs": [],
   "source": [
    "for i in range(len(paths)):\n",
    "    shutil.copy2(paths[i], \"/content/drive/My Drive/Colab Notebooks/Florence/20180917a_jpgs/\"+str(kpredictions[i]))"
   ]
  },
  {
   "cell_type": "code",
   "execution_count": null,
   "metadata": {
    "colab": {},
    "colab_type": "code",
    "id": "flhyfANntxg7"
   },
   "outputs": [],
   "source": [
    "testimage=cv2.imread('/content/drive/My Drive/Colab Notebooks/Florence/20180917a_jpgs/resized/26048297_resized.jpg')"
   ]
  },
  {
   "cell_type": "code",
   "execution_count": null,
   "metadata": {
    "colab": {
     "base_uri": "https://localhost:8080/",
     "height": 35
    },
    "colab_type": "code",
    "id": "4qnfGlUquY1E",
    "outputId": "a6250c51-e059-4f30-f595-05ebb98e8bac"
   },
   "outputs": [],
   "source": [
    "testimage2.shape"
   ]
  },
  {
   "cell_type": "code",
   "execution_count": null,
   "metadata": {
    "colab": {},
    "colab_type": "code",
    "id": "wkXGv_O1ub1L"
   },
   "outputs": [],
   "source": [
    "testimage=cv2.resize(cv2.imread('/content/drive/My Drive/Colab Notebooks/Florence/20180917a_jpgs/resized/26048297_resized.jpg'), (224, 224))"
   ]
  },
  {
   "cell_type": "code",
   "execution_count": null,
   "metadata": {
    "colab": {},
    "colab_type": "code",
    "id": "JupdLfUtu0yn"
   },
   "outputs": [],
   "source": [
    "testimage2=np.array(np.float32(testimage).reshape(len(testimage), -1)/255)"
   ]
  },
  {
   "cell_type": "markdown",
   "metadata": {},
   "source": [
    "#### PCA"
   ]
  },
  {
   "cell_type": "code",
   "execution_count": null,
   "metadata": {
    "colab": {
     "base_uri": "https://localhost:8080/",
     "height": 52
    },
    "colab_type": "code",
    "id": "CECOfD04vW4n",
    "outputId": "d276bb47-64e9-4a27-9951-1993ad2e600a"
   },
   "outputs": [],
   "source": [
    "from sklearn.decomposition import PCA\n",
    "# Make an instance of the Model\n",
    "variance = 0.98 #The higher the explained variance the more accurate the model will remain, but more dimensions will be present\n",
    "pca = PCA(variance)\n",
    "\n",
    "pca.fit(images2) #fit the data according to our PCA instance\n",
    "print(\"Number of components before PCA  = \" + str(images2.shape[1]))\n",
    "print(\"Number of components after PCA 0.98 = \" + str(pca.n_components_)) "
   ]
  },
  {
   "cell_type": "code",
   "execution_count": null,
   "metadata": {
    "colab": {
     "base_uri": "https://localhost:8080/",
     "height": 52
    },
    "colab_type": "code",
    "id": "I-4u1dAAyzq6",
    "outputId": "61d2c037-0ffb-46b8-c217-112d19a5c8ba"
   },
   "outputs": [],
   "source": [
    "Clus_dataSet = pca.transform(images2)\n",
    "print(\"Dimension of our data after PCA  = \" + str(Clus_dataSet.shape))\n",
    "\n",
    "#To visualise the data inversed from PCA\n",
    "approximation = pca.inverse_transform(Clus_dataSet)\n",
    "print(\"Dimension of our data after inverse transforming the PCA  = \" + str(approximation.shape))"
   ]
  },
  {
   "cell_type": "code",
   "execution_count": null,
   "metadata": {
    "colab": {
     "base_uri": "https://localhost:8080/",
     "height": 307
    },
    "colab_type": "code",
    "id": "b-HjmoLTwXMt",
    "outputId": "7f759ee0-b6e5-4234-e7f2-cb62243caf97"
   },
   "outputs": [],
   "source": [
    "#image reconstruction using the less dimensioned data\n",
    "plt.figure(figsize=(8,4));\n",
    "\n",
    "n = 400 #index value, change to view different data\n",
    "\n",
    "# Original Image\n",
    "plt.subplot(1, 2, 1);\n",
    "plt.imshow(images2[n].reshape(224,224,3)\n",
    "              );\n",
    "#plt.xlabel(str(X.shape[1])+' components', fontsize = 14)\n",
    "plt.title('Original Image', fontsize = 20);\n",
    "\n",
    "# 196 principal components\n",
    "plt.subplot(1, 2, 2);\n",
    "plt.imshow(approximation[n].reshape(224,224,3)\n",
    "              );\n",
    "plt.xlabel(str(Clus_dataSet.shape[1]) +' components', fontsize = 14)\n",
    "plt.title(str(variance * 100) + '% of Variance Retained', fontsize = 20);\n"
   ]
  },
  {
   "cell_type": "markdown",
   "metadata": {},
   "source": [
    "#### Elbow method for optimal clusters"
   ]
  },
  {
   "cell_type": "code",
   "execution_count": null,
   "metadata": {
    "colab": {
     "base_uri": "https://localhost:8080/",
     "height": 290
    },
    "colab_type": "code",
    "id": "D9facmTjz5f5",
    "outputId": "6764829d-ba9f-4b18-97e1-6e8454840deb"
   },
   "outputs": [],
   "source": [
    "ks = range(1, 20)\n",
    "inertias = []\n",
    "for k in ks:a\n",
    "    # Create a KMeans instance with k clusters: model\n",
    "    model = KMeans(n_clusters=k)\n",
    "    \n",
    "    # Fit model to samples\n",
    "    model.fit(PCA_components)\n",
    "    \n",
    "    # Append the inertia to the list of inertias\n",
    "    inertias.append(model.inertia_)\n",
    "    \n",
    "plt.plot(ks, inertias, '-o', color='black')\n",
    "plt.xlabel('number of clusters, k')\n",
    "plt.ylabel('inertia')\n",
    "plt.xticks(ks)\n",
    "plt.show()"
   ]
  },
  {
   "cell_type": "code",
   "execution_count": null,
   "metadata": {
    "colab": {
     "base_uri": "https://localhost:8080/",
     "height": 52
    },
    "colab_type": "code",
    "id": "B0rMkbCZ3bTC",
    "outputId": "6c01fdaa-5488-445d-c8b2-f117e0b53967"
   },
   "outputs": [],
   "source": [
    "pca"
   ]
  },
  {
   "cell_type": "code",
   "execution_count": null,
   "metadata": {
    "colab": {},
    "colab_type": "code",
    "id": "t-VDAnm23xRR"
   },
   "outputs": [],
   "source": [
    "principalComponents = pca.fit_transform(images2)\n"
   ]
  },
  {
   "cell_type": "code",
   "execution_count": null,
   "metadata": {
    "colab": {
     "base_uri": "https://localhost:8080/",
     "height": 35
    },
    "colab_type": "code",
    "id": "buG99E_44CNY",
    "outputId": "d373643d-7991-4e52-86dc-ca798e3a7ecc"
   },
   "outputs": [],
   "source": [
    "principalComponents.shape"
   ]
  },
  {
   "cell_type": "code",
   "execution_count": null,
   "metadata": {
    "colab": {},
    "colab_type": "code",
    "id": "oFy1WhWu6kfR"
   },
   "outputs": [],
   "source": [
    "PCA_components = pd.DataFrame(principalComponents)"
   ]
  },
  {
   "cell_type": "code",
   "execution_count": null,
   "metadata": {
    "colab": {},
    "colab_type": "code",
    "id": "nNt9Eo0I6tFn"
   },
   "outputs": [],
   "source": [
    "import pandas as pd"
   ]
  },
  {
   "cell_type": "code",
   "execution_count": null,
   "metadata": {
    "colab": {},
    "colab_type": "code",
    "id": "Yh414wFj6v3Q"
   },
   "outputs": [],
   "source": [
    "k_means = KMeans(init = \"k-means++\", n_clusters = 5, n_init = 35)"
   ]
  },
  {
   "cell_type": "code",
   "execution_count": null,
   "metadata": {
    "colab": {
     "base_uri": "https://localhost:8080/",
     "height": 69
    },
    "colab_type": "code",
    "id": "RwSiZE6k9j_f",
    "outputId": "88843a4c-d8b6-4479-e648-8ae88de9a7b0"
   },
   "outputs": [],
   "source": [
    "# Clustering the images\n",
    "k = 6\n",
    "kmodel = KMeans(n_clusters = k, n_jobs=-1, random_state=728)\n",
    "kmodel.fit(Clus_dataSet)\n",
    "#kpredictions = kmodel.predict(pred_images)"
   ]
  },
  {
   "cell_type": "code",
   "execution_count": null,
   "metadata": {
    "colab": {
     "base_uri": "https://localhost:8080/",
     "height": 35
    },
    "colab_type": "code",
    "id": "uDRU_7Zg-PDt",
    "outputId": "b23633d0-d96f-4613-c96b-d7513c41139a"
   },
   "outputs": [],
   "source": [
    "k_means_labels = kmodel.labels_ #List of labels of each dataset\n",
    "print(\"The list of labels of the clusters are \" + str(np.unique(k_means_labels)))"
   ]
  },
  {
   "cell_type": "code",
   "execution_count": null,
   "metadata": {
    "colab": {},
    "colab_type": "code",
    "id": "6QIVsbyl-a85"
   },
   "outputs": [],
   "source": [
    "G = len(np.unique(k_means_labels)) #Number of labels\n",
    "\n",
    "#2D matrix  for an array of indexes of the given label\n",
    "cluster_index= [[] for i in range(G)]\n",
    "for i, label in enumerate(k_means_labels,0):\n",
    "    for n in range(G):\n",
    "        if label == n:\n",
    "            cluster_index[n].append(i)\n",
    "        else:\n",
    "            continue"
   ]
  },
  {
   "cell_type": "code",
   "execution_count": null,
   "metadata": {
    "colab": {
     "base_uri": "https://localhost:8080/",
     "height": 35
    },
    "colab_type": "code",
    "id": "um6z-9ld_BAC",
    "outputId": "dd402790-8df9-4c2e-f3fb-2131d1f9949d"
   },
   "outputs": [],
   "source": [
    "len(cluster_index[0])"
   ]
  },
  {
   "cell_type": "code",
   "execution_count": null,
   "metadata": {
    "colab": {
     "base_uri": "https://localhost:8080/",
     "height": 733
    },
    "colab_type": "code",
    "id": "oKy4E5NI_C7G",
    "outputId": "c09b65d4-a189-40ab-a241-de7cd126cd57"
   },
   "outputs": [],
   "source": [
    "#Visualisation for clusters = clust\n",
    "plt.figure(figsize=(20,20));\n",
    "clust = 5 #enter label number to visualise\n",
    "num = 40 #num of data to visualize from the cluster\n",
    "for i in range(1,num): \n",
    "    plt.subplot(7, 7, i); #(Number of rows, Number of column per row, item number)\n",
    "    plt.imshow(images2[cluster_index[clust][i+2]].reshape(224,224,3));\n",
    "    \n",
    "plt.show()"
   ]
  },
  {
   "cell_type": "code",
   "execution_count": null,
   "metadata": {
    "colab": {
     "base_uri": "https://localhost:8080/",
     "height": 733
    },
    "colab_type": "code",
    "id": "CR2oeMw_ACT8",
    "outputId": "747c3fb3-0693-4377-9657-0fc5674d2325"
   },
   "outputs": [],
   "source": [
    "#Visualisation for clusters = clust\n",
    "plt.figure(figsize=(20,20));\n",
    "clust = 3 #enter label number to visualise\n",
    "num = 40 #num of data to visualize from the cluster\n",
    "for i in range(1,num): \n",
    "    plt.subplot(7, 7, i); #(Number of rows, Number of column per row, item number)\n",
    "    plt.imshow(images2[cluster_index[clust][i+2]].reshape(224,224,3));\n",
    "    \n",
    "plt.show()"
   ]
  },
  {
   "cell_type": "code",
   "execution_count": null,
   "metadata": {
    "colab": {},
    "colab_type": "code",
    "id": "OAHJ0g23B4s7"
   },
   "outputs": [],
   "source": [
    "from sklearn.manifold import TSNE"
   ]
  },
  {
   "cell_type": "code",
   "execution_count": null,
   "metadata": {
    "colab": {},
    "colab_type": "code",
    "id": "4JowEVqMBCKv"
   },
   "outputs": [],
   "source": [
    "tsne = TSNE().fit_transform(principalComponents)\n"
   ]
  },
  {
   "cell_type": "code",
   "execution_count": null,
   "metadata": {
    "colab": {
     "base_uri": "https://localhost:8080/",
     "height": 139
    },
    "colab_type": "code",
    "id": "-8d8HCaWMYQv",
    "outputId": "e839de13-4fe7-4e55-9d41-9713beddb8fc"
   },
   "outputs": [],
   "source": [
    "tsne"
   ]
  },
  {
   "cell_type": "code",
   "execution_count": null,
   "metadata": {
    "colab": {
     "base_uri": "https://localhost:8080/",
     "height": 305
    },
    "colab_type": "code",
    "id": "MAQLjvK7D5P4",
    "outputId": "4660e303-2346-4f8e-9565-8bafcf7b0497"
   },
   "outputs": [],
   "source": [
    "#fig = plt.figure(figsize = (8,8))\n",
    "#plt = fig.add_subplot(1,1,1) \n",
    "plt.xlabel('Principal Component 1', fontsize = 15)\n",
    "plt.ylabel('Principal Component 2', fontsize = 15)\n",
    "plt.title('2 component PCA', fontsize = 20)\n",
    "targets = [0,1,2,3,4,5]\n",
    "colors = ['r', 'g', 'b','c','m','y']\n",
    "for target, color in zip(targets,colors):\n",
    "    indicesToKeep = (PCA_components['cluster'] == target)\n",
    "    plt.scatter(PCA_components.loc[indicesToKeep,0]\n",
    "               , PCA_components.loc[indicesToKeep,1]\n",
    "               , c = color\n",
    "               , s = 50)\n",
    "plt.legend(targets)\n",
    "plt.show()"
   ]
  },
  {
   "cell_type": "code",
   "execution_count": null,
   "metadata": {
    "colab": {
     "base_uri": "https://localhost:8080/",
     "height": 251
    },
    "colab_type": "code",
    "id": "_Sn9HhmYHVwB",
    "outputId": "73ffc723-0976-4373-a31a-1ad65b42d709"
   },
   "outputs": [],
   "source": [
    "PCA_components.head()"
   ]
  },
  {
   "cell_type": "code",
   "execution_count": null,
   "metadata": {
    "colab": {},
    "colab_type": "code",
    "id": "iavOmtCCHXOZ"
   },
   "outputs": [],
   "source": [
    "PCA_components['cluster']=k_means_labels"
   ]
  },
  {
   "cell_type": "code",
   "execution_count": null,
   "metadata": {
    "colab": {
     "base_uri": "https://localhost:8080/",
     "height": 225
    },
    "colab_type": "code",
    "id": "jghd0y5FHgby",
    "outputId": "f7ab25ca-831d-4ef6-e48d-5cb4ec53e99a"
   },
   "outputs": [],
   "source": [
    "PCA_components.loc[:,0]"
   ]
  },
  {
   "cell_type": "code",
   "execution_count": null,
   "metadata": {
    "colab": {
     "base_uri": "https://localhost:8080/",
     "height": 225
    },
    "colab_type": "code",
    "id": "M_W7oEtLHu2r",
    "outputId": "67f991fa-9177-44a6-d2c7-518667da0e05"
   },
   "outputs": [],
   "source": [
    "PCA_components['cluster'] == 0"
   ]
  },
  {
   "cell_type": "code",
   "execution_count": null,
   "metadata": {
    "colab": {
     "base_uri": "https://localhost:8080/",
     "height": 283
    },
    "colab_type": "code",
    "id": "N9D_R1hDI05u",
    "outputId": "5e00fadb-3e8a-4ae4-ed26-2bc418ea2d41"
   },
   "outputs": [],
   "source": [
    "indicesToKeep = PCA_components['cluster'] == 0\n",
    "plt.scatter(PCA_components.loc[indicesToKeep,0],PCA_components.loc[indicesToKeep,1])"
   ]
  },
  {
   "cell_type": "code",
   "execution_count": null,
   "metadata": {
    "colab": {
     "base_uri": "https://localhost:8080/",
     "height": 305
    },
    "colab_type": "code",
    "id": "6GrITmnmJT6h",
    "outputId": "2a6d44bc-1389-44cf-9d9b-e2d4fc4ee86e"
   },
   "outputs": [],
   "source": [
    "#fig = plt.figure(figsize = (8,8))\n",
    "#plt = fig.add_subplot(1,1,1) \n",
    "plt.xlabel('Principal Component 1', fontsize = 15)\n",
    "plt.ylabel('Principal Component 2', fontsize = 15)\n",
    "plt.title('2 component PCA', fontsize = 20)\n",
    "targets = ['0','1','2','3','4','5']\n",
    "colors = ['r', 'g', 'b','c','m','y']\n",
    "#for target, color in zip(targets,colors):\n",
    "indicesToKeep = (PCA_components['cluster'] == 0)\n",
    "plt.scatter(PCA_components.loc[indicesToKeep,0]\n",
    "            , PCA_components.loc[indicesToKeep,1]\n",
    "            , c = 'r'\n",
    "            , s = 50)\n",
    "indicesToKeep = (PCA_components['cluster'] == 1)\n",
    "plt.scatter(PCA_components.loc[indicesToKeep,0]\n",
    "            , PCA_components.loc[indicesToKeep,1]\n",
    "            , c = 'g'\n",
    "            , s = 50)\n",
    "plt.legend(targets)\n",
    "plt.show()\n"
   ]
  },
  {
   "cell_type": "code",
   "execution_count": null,
   "metadata": {
    "colab": {},
    "colab_type": "code",
    "id": "gzLLuGHgLDLj"
   },
   "outputs": [],
   "source": [
    "tsne_components = pd.DataFrame(tsne)"
   ]
  },
  {
   "cell_type": "code",
   "execution_count": null,
   "metadata": {
    "colab": {},
    "colab_type": "code",
    "id": "duCCoB0fMnRW"
   },
   "outputs": [],
   "source": [
    "tsne_components['cluster']=k_means_labels"
   ]
  },
  {
   "cell_type": "code",
   "execution_count": null,
   "metadata": {
    "colab": {
     "base_uri": "https://localhost:8080/",
     "height": 305
    },
    "colab_type": "code",
    "id": "fdpkqMBEMtW8",
    "outputId": "843c0830-9717-45c8-fea8-5898dd4f9079"
   },
   "outputs": [],
   "source": [
    "#fig = plt.figure(figsize = (8,8))\n",
    "#plt = fig.add_subplot(1,1,1) \n",
    "plt.xlabel('TSNE Component 1', fontsize = 15)\n",
    "plt.ylabel('TSNE Component 2', fontsize = 15)\n",
    "plt.title('2 component TSNE', fontsize = 20)\n",
    "targets = [0,1,2,3,4,5]\n",
    "colors = ['r', 'g', 'b','c','m','y']\n",
    "for target, color in zip(targets,colors):\n",
    "    indicesToKeep = (tsne_components['cluster'] == target)\n",
    "    plt.scatter(tsne_components.loc[indicesToKeep,0]\n",
    "               , tsne_components.loc[indicesToKeep,1]\n",
    "               , c = color\n",
    "               , s = 50)\n",
    "plt.legend(targets)\n",
    "plt.show()"
   ]
  },
  {
   "cell_type": "code",
   "execution_count": null,
   "metadata": {
    "colab": {},
    "colab_type": "code",
    "id": "OkFIY3R7M-rs"
   },
   "outputs": [],
   "source": [
    "from mpl_toolkits.mplot3d import Axes3D\n",
    "fig=plt.figure()\n",
    "ax=Axes3D(fig)\n",
    "targets = [0,1,2,3,4,5,6,7,8,9]\n",
    "colors = ['r', 'g', 'b','c','m','y','grey','orange','pink']\n",
    "for target, color in zip(targets,colors):\n",
    "    indicesToKeep = (tsne_components['cluster'] == target)\n",
    "    ax.scatter(tsne_components.loc[indicesToKeep,0]\n",
    "               , tsne_components.loc[indicesToKeep,1],tsne_components.loc[indicesToKeep,2]\n",
    "               , c = color\n",
    "               , s = 50)\n",
    "plt.legend(targets)\n",
    "plt.show()"
   ]
  }
 ],
 "metadata": {
  "colab": {
   "collapsed_sections": [],
   "name": "Cluster_PCA_TSNE.ipynb",
   "provenance": [],
   "toc_visible": true
  },
  "kernelspec": {
   "display_name": "Python 3",
   "language": "python",
   "name": "python3"
  },
  "language_info": {
   "codemirror_mode": {
    "name": "ipython",
    "version": 3
   },
   "file_extension": ".py",
   "mimetype": "text/x-python",
   "name": "python",
   "nbconvert_exporter": "python",
   "pygments_lexer": "ipython3",
   "version": "3.7.4"
  }
 },
 "nbformat": 4,
 "nbformat_minor": 1
}
