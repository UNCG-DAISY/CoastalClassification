{
 "cells": [
  {
   "cell_type": "markdown",
   "metadata": {
    "colab_type": "text",
    "id": "t6mZwGjRnpoQ"
   },
   "source": [
    "## **Clustering images using pretrained MOBILENET model**\n",
    "\n"
   ]
  },
  {
   "cell_type": "markdown",
   "metadata": {
    "colab_type": "text",
    "id": "Y3MoaljDnlA1"
   },
   "source": [
    "#### Importing libraries"
   ]
  },
  {
   "cell_type": "code",
   "execution_count": null,
   "metadata": {
    "colab": {},
    "colab_type": "code",
    "id": "-qzVkQOGrViw"
   },
   "outputs": [],
   "source": [
    "import numpy as np\n",
    "import matplotlib.pyplot as plt\n",
    "import tensorflow as tf\n",
    "from sklearn.preprocessing import StandardScaler\n",
    "from sklearn.cluster import KMeans\n",
    "import glob\n",
    "import cv2\n",
    "from sklearn.metrics import silhouette_score\n",
    "from tensorflow.keras import models\n",
    "import tensorflow as tf\n",
    "from tensorflow.keras.models import load_model\n",
    "from tensorflow.keras.preprocessing import image\n",
    "import tensorflow.keras.backend as K\n",
    "from google.colab.patches import cv2_imshow\n",
    "import os\n",
    "import random\n",
    "import pandas as pd"
   ]
  },
  {
   "cell_type": "code",
   "execution_count": null,
   "metadata": {
    "colab": {},
    "colab_type": "code",
    "id": "e83f_m6QrfxK"
   },
   "outputs": [],
   "source": [
    "# Directory where the images are stored in Google drive\n",
    "input_dir = '/content/drive/My Drive/Colab Notebooks/Florence/20180917a_jpgs/resized'\n",
    "glob_dir = input_dir + '/*.jpg'"
   ]
  },
  {
   "cell_type": "markdown",
   "metadata": {
    "colab_type": "text",
    "id": "6Odfq2BYn_Ir"
   },
   "source": [
    "#### Loading images and converting them to numpy array"
   ]
  },
  {
   "cell_type": "code",
   "execution_count": null,
   "metadata": {
    "colab": {},
    "colab_type": "code",
    "id": "K6AIeZNjrqXf"
   },
   "outputs": [],
   "source": [
    "images_resized = [cv2.resize(cv2.imread(file), (224, 224)) for file in glob.glob(glob_dir)]\n",
    "paths = [file for file in glob.glob(glob_dir)]\n",
    "images_resized = np.array(np.float32(images_resized).reshape(len(images_resized), -1)/255)"
   ]
  },
  {
   "cell_type": "markdown",
   "metadata": {
    "colab_type": "text",
    "id": "cWnDo6ucoLfY"
   },
   "source": [
    "#### Loading the model"
   ]
  },
  {
   "cell_type": "code",
   "execution_count": null,
   "metadata": {
    "colab": {
     "base_uri": "https://localhost:8080/",
     "height": 72
    },
    "colab_type": "code",
    "id": "Eqr6wwa0r3ad",
    "outputId": "ab22681a-b9a4-48fb-d9b1-21caa5f1050b"
   },
   "outputs": [],
   "source": [
    "model = tf.keras.applications.MobileNetV2(include_top=False,weights='imagenet', input_shape=(224, 224, 3))"
   ]
  },
  {
   "cell_type": "markdown",
   "metadata": {
    "colab_type": "text",
    "id": "kizVcorAoQO-"
   },
   "source": [
    "#### Predicting our images through the model"
   ]
  },
  {
   "cell_type": "code",
   "execution_count": null,
   "metadata": {
    "colab": {},
    "colab_type": "code",
    "id": "rRWCZ_VlN1GY"
   },
   "outputs": [],
   "source": [
    "  predictions = model.predict(images_resized.reshape(-1, 224, 224, 3))\n"
   ]
  },
  {
   "cell_type": "code",
   "execution_count": null,
   "metadata": {
    "colab": {},
    "colab_type": "code",
    "id": "ydLxvyxbOAyn"
   },
   "outputs": [],
   "source": [
    "pred_images = predictions.reshape(images_resized.shape[0], -1)"
   ]
  },
  {
   "cell_type": "markdown",
   "metadata": {
    "colab_type": "text",
    "id": "39vjWW20oYc6"
   },
   "source": [
    "#### Silhoutte method to know the optimal clusters"
   ]
  },
  {
   "cell_type": "code",
   "execution_count": null,
   "metadata": {
    "colab": {},
    "colab_type": "code",
    "id": "NSGGQB2vOG_v"
   },
   "outputs": [],
   "source": [
    "sil = []\n",
    "kl = []\n",
    "kmax = 10\n",
    "for k in range(2, kmax+1):\n",
    "    kmeans2 = KMeans(n_clusters = k).fit(pred_images)\n",
    "    labels = kmeans2.labels_\n",
    "    sil.append(silhouette_score(pred_images, labels, metric =   'euclidean'))\n",
    "    kl.append(k)"
   ]
  },
  {
   "cell_type": "code",
   "execution_count": null,
   "metadata": {
    "colab": {
     "base_uri": "https://localhost:8080/",
     "height": 265
    },
    "colab_type": "code",
    "id": "3ycuqhmZOLCk",
    "outputId": "22fec143-1978-43df-c263-17ccb28bc37d"
   },
   "outputs": [],
   "source": [
    "plt.plot(kl, sil)\n",
    "plt.ylabel('Silhoutte Score')\n",
    "plt.ylabel('K')\n",
    "plt.show()"
   ]
  },
  {
   "cell_type": "markdown",
   "metadata": {
    "colab_type": "text",
    "id": "CF3J9BA9oeiH"
   },
   "source": [
    "#### Elbow method to know the optimal clusters"
   ]
  },
  {
   "cell_type": "code",
   "execution_count": null,
   "metadata": {
    "colab": {},
    "colab_type": "code",
    "id": "eo5NOISROO8t"
   },
   "outputs": [],
   "source": [
    "Sum_of_squared_distances = []\n",
    "K = range(13,20)\n",
    "for k in K:\n",
    "    km = KMeans(n_clusters=k)\n",
    "    km = km.fit(pred_images)\n",
    "    Sum_of_squared_distances.append(math.log(km.inertia_))"
   ]
  },
  {
   "cell_type": "code",
   "execution_count": null,
   "metadata": {
    "colab": {
     "base_uri": "https://localhost:8080/",
     "height": 295
    },
    "colab_type": "code",
    "id": "7mHcluQ-OQOd",
    "outputId": "d393b9c0-c766-4dfc-dd23-9f52c9d3c9e2"
   },
   "outputs": [],
   "source": [
    "#13-19\n",
    "plt.plot(K, Sum_of_squared_distances, 'bx-')\n",
    "plt.xlabel('k')\n",
    "plt.ylabel('log of Sum_of_squared_distances')\n",
    "plt.title('Elbow Method For Optimal k')\n",
    "plt.show()"
   ]
  },
  {
   "cell_type": "markdown",
   "metadata": {
    "colab_type": "text",
    "id": "0p9BGF_EoiYb"
   },
   "source": [
    "#### Clustering the images using kmeans"
   ]
  },
  {
   "cell_type": "code",
   "execution_count": null,
   "metadata": {
    "colab": {},
    "colab_type": "code",
    "id": "e1GVI2u7OSTx"
   },
   "outputs": [],
   "source": [
    "k = 9\n",
    "kmodel = KMeans(n_clusters = k, n_jobs=-1, random_state=728)\n",
    "kmodel.fit(pred_images)\n",
    "kpredictions = kmodel.predict(pred_images)\n",
    "#shutil.rmtree('output')"
   ]
  },
  {
   "cell_type": "code",
   "execution_count": null,
   "metadata": {
    "colab": {},
    "colab_type": "code",
    "id": "41h2kYbsOWak"
   },
   "outputs": [],
   "source": [
    "for i in range(k):\n",
    "    os.makedirs(\"/content/drive/My Drive/Colab Notebooks/Florence/20180917a_jpgs/\" + str(i))\n",
    "for i in range(len(paths)):\n",
    "    shutil.copy2(paths[i], \"/content/drive/My Drive/Colab Notebooks/Florence/20180917a_jpgs/\"+str(kpredictions[i]))"
   ]
  },
  {
   "cell_type": "code",
   "execution_count": null,
   "metadata": {
    "colab": {
     "base_uri": "https://localhost:8080/",
     "height": 35
    },
    "colab_type": "code",
    "id": "okPq7TWbObMX",
    "outputId": "dcd1082a-a2d9-45bf-c503-9c1e74a8530c"
   },
   "outputs": [],
   "source": [
    "# Retrieving the labels\n",
    "k_means_labels = kmodel.labels_ #List of labels of each dataset\n",
    "print(\"The list of labels of the clusters are \" + str(np.unique(k_means_labels)))"
   ]
  },
  {
   "cell_type": "code",
   "execution_count": null,
   "metadata": {
    "colab": {},
    "colab_type": "code",
    "id": "RlFSYDPhd5KE"
   },
   "outputs": [],
   "source": [
    "#Retrieving the indexes\n",
    "G = len(np.unique(k_means_labels)) #Number of labels\n",
    "\n",
    "#2D matrix  for an array of indexes of the given label\n",
    "cluster_index= [[] for i in range(G)]\n",
    "for i, label in enumerate(k_means_labels,0):\n",
    "    for n in range(G):\n",
    "        if label == n:\n",
    "            cluster_index[n].append(i)\n",
    "        else:\n",
    "            continue"
   ]
  },
  {
   "cell_type": "code",
   "execution_count": null,
   "metadata": {
    "colab": {
     "base_uri": "https://localhost:8080/",
     "height": 35
    },
    "colab_type": "code",
    "id": "x8Vued6jd7v-",
    "outputId": "8e694118-8df3-4a69-d6f1-bd9810812152"
   },
   "outputs": [],
   "source": [
    "len(cluster_index[2])"
   ]
  },
  {
   "cell_type": "code",
   "execution_count": null,
   "metadata": {
    "colab": {
     "base_uri": "https://localhost:8080/",
     "height": 1000
    },
    "colab_type": "code",
    "id": "lfe7cjxdeAZg",
    "outputId": "30eae9ec-fac2-43b6-80d8-c3c21b2c2d70"
   },
   "outputs": [],
   "source": [
    "#Visualisation for clusters = clust\n",
    "clust = 9\n",
    "num = 10 #num of data to visualize from the cluster\n",
    "for j in range(0,clust):\n",
    "  plt.figure(figsize=(20,20))\n",
    "  #plt.clf()\n",
    "  print('Cluster '+str(j))\n",
    "  for i in range(1,num+1):\n",
    "    plt.subplot(7, 7, i) #(Number of rows, Number of column per row, item number)\n",
    "    plt.imshow(images_resized[cluster_index[j][i]].reshape(224,224,3))     \n",
    "  plt.show()"
   ]
  },
  {
   "cell_type": "code",
   "execution_count": null,
   "metadata": {
    "colab": {
     "base_uri": "https://localhost:8080/",
     "height": 295
    },
    "colab_type": "code",
    "id": "OcfSg-bweCt1",
    "outputId": "29e0f7d5-1c37-4298-ce5a-dade06a2f0d2"
   },
   "outputs": [],
   "source": [
    "#Elbow method to check 13-25 clusters\n",
    "plt.plot(K, Sum_of_squared_distances, 'bx-')\n",
    "plt.xlabel('k')\n",
    "plt.ylabel('log of Sum_of_squared_distances')\n",
    "plt.title('Elbow Method For Optimal k')\n",
    "plt.show()"
   ]
  },
  {
   "cell_type": "code",
   "execution_count": null,
   "metadata": {
    "colab": {
     "base_uri": "https://localhost:8080/",
     "height": 295
    },
    "colab_type": "code",
    "id": "xm77inxBe3gc",
    "outputId": "3897038d-aea5-4985-ad4d-6f8bb29c6e1c"
   },
   "outputs": [],
   "source": [
    "# Elbow method to check 1-20 clusters\n",
    "plt.plot(K, Sum_of_squared_distances, 'bx-')\n",
    "plt.xlabel('k')\n",
    "plt.ylabel('log of Sum_of_squared_distances')\n",
    "plt.title('Elbow Method For Optimal k')\n",
    "plt.show()"
   ]
  },
  {
   "cell_type": "code",
   "execution_count": null,
   "metadata": {
    "colab": {},
    "colab_type": "code",
    "id": "dD0uW_Hg05A5"
   },
   "outputs": [],
   "source": [
    "import math\n"
   ]
  },
  {
   "cell_type": "code",
   "execution_count": null,
   "metadata": {
    "colab": {
     "base_uri": "https://localhost:8080/",
     "height": 1000
    },
    "colab_type": "code",
    "id": "Lde74USP06C2",
    "outputId": "8c345328-47a2-4115-d5c8-fc23b790420b"
   },
   "outputs": [],
   "source": [
    "model.summary()"
   ]
  },
  {
   "cell_type": "markdown",
   "metadata": {
    "colab_type": "text",
    "id": "O4VLnG04o4Fj"
   },
   "source": [
    "#### Gradmap on one of the image"
   ]
  },
  {
   "cell_type": "code",
   "execution_count": null,
   "metadata": {
    "colab": {
     "base_uri": "https://localhost:8080/",
     "height": 660
    },
    "colab_type": "code",
    "id": "vVTCcrDF0iV5",
    "outputId": "a3abcc06-428b-4477-be8d-771a19f4bce4"
   },
   "outputs": [],
   "source": [
    "p = '/content/drive/My Drive/Colab Notebooks/Florence/20180917a_jpgs/0/26055858_resized.jpg'\n",
    "\n",
    "img = image.load_img(p, target_size=(224, 224))\n",
    "\n",
    "cv2_imshow(cv2.imread(p))"
   ]
  },
  {
   "cell_type": "code",
   "execution_count": null,
   "metadata": {
    "colab": {
     "base_uri": "https://localhost:8080/",
     "height": 35
    },
    "colab_type": "code",
    "id": "d359DkC_1ZWo",
    "outputId": "67333d17-347f-4aa4-eb20-b227ac242922"
   },
   "outputs": [],
   "source": [
    "\n",
    "img_tensor = image.img_to_array(img)\n",
    "img_tensor_x = np.expand_dims(img_tensor, axis=0)\n",
    "img_tensor_x.shape"
   ]
  },
  {
   "cell_type": "code",
   "execution_count": null,
   "metadata": {
    "colab": {
     "base_uri": "https://localhost:8080/",
     "height": 35
    },
    "colab_type": "code",
    "id": "Dy-qFpYtfJ1i",
    "outputId": "43243cc2-9988-43e1-b983-b094e0ddb2be"
   },
   "outputs": [],
   "source": [
    "# Extracts the outputs of the layers:\n",
    "model_layer_outputs = [layer.output for layer in model.layers if isinstance(layer, tf.keras.layers.Conv2D)]\n",
    "# Creates a model that will return these outputs, given the model input:\n",
    "activation_model = models.Model(inputs=model.input, outputs=model_layer_outputs)\n",
    "activations = activation_model.predict(img_tensor_x)\n",
    "first_activation_layer = activations[0]\n",
    "print(first_activation_layer.shape)"
   ]
  },
  {
   "cell_type": "code",
   "execution_count": null,
   "metadata": {
    "colab": {
     "base_uri": "https://localhost:8080/",
     "height": 35
    },
    "colab_type": "code",
    "id": "yGikPV8AjQzH",
    "outputId": "ae03d552-854c-4559-d8fe-58af413bf22a"
   },
   "outputs": [],
   "source": [
    "len([x.name for x in model.layers if isinstance(x, tf.keras.layers.Conv2D)])"
   ]
  },
  {
   "cell_type": "code",
   "execution_count": null,
   "metadata": {
    "colab": {
     "base_uri": "https://localhost:8080/",
     "height": 720
    },
    "colab_type": "code",
    "id": "102wQl5Dk-Ae",
    "outputId": "488b8d67-9079-4f42-e126-8f907165d997"
   },
   "outputs": [],
   "source": [
    "ix = 1\n",
    "plt.figure(num=None, figsize=(10, 10), dpi=80, facecolor='w', edgecolor='k')\n",
    "for a in range(16):\n",
    "  ax = plt.subplot(4,4,ix)\n",
    "  ax.set_xticks([])\n",
    "  ax.set_yticks([])\n",
    "  plt.imshow(first_activation_layer[0, :, :, ix-1], cmap='viridis')\n",
    "  ix+=1\n",
    "plt.suptitle('Last layer feature maps of model')  \n",
    "plt.show()"
   ]
  },
  {
   "cell_type": "code",
   "execution_count": null,
   "metadata": {
    "colab": {
     "base_uri": "https://localhost:8080/",
     "height": 275
    },
    "colab_type": "code",
    "id": "8TqsEc8DnadJ",
    "outputId": "37f8a603-db44-4c95-ac21-02a8359a230e"
   },
   "outputs": [],
   "source": [
    "with tf.GradientTape() as tape:\n",
    "  layers = [layer.name for layer in model.layers if isinstance(layer, tf.keras.layers.Conv2D)] #Getting all the Conv2D layers\n",
    "  last_conv_layer = model.get_layer(layers[-1])\n",
    "  iterate = tf.keras.models.Model([model.inputs], [model.output, last_conv_layer.output])\n",
    "  model_out, last_conv_layer = iterate(img_tensor_x)\n",
    "  #class_out = model_out[:, np.argmax(model_out[0])]\n",
    "  grads = tape.gradient(model_out,last_conv_layer)\n",
    "  pooled_grads = K.mean(grads, axis=(0, 1, 2))\n",
    "  \n",
    "heatmap = tf.reduce_mean(tf.multiply(pooled_grads, last_conv_layer), axis=-1)\n",
    "heatmap = np.maximum(heatmap, 0)\n",
    "heatmap /= np.max(heatmap)\n",
    "heatmap = heatmap.reshape((7, 7))\n",
    "plt.matshow(heatmap)\n",
    "plt.show()"
   ]
  },
  {
   "cell_type": "code",
   "execution_count": null,
   "metadata": {
    "colab": {
     "base_uri": "https://localhost:8080/",
     "height": 660
    },
    "colab_type": "code",
    "id": "BhHN-fATxrPN",
    "outputId": "4d71243b-de68-4e83-ddde-641ae131a00b"
   },
   "outputs": [],
   "source": [
    "#img_org = images_resized[0].reshape(224,224,3)\n",
    "img_org = cv2.imread(p)\n",
    "INTENSITY = 0.5\n",
    "heatmap = cv2.resize(heatmap, (img_org.shape[1], img_org.shape[0]))\n",
    "heatmap = cv2.applyColorMap(np.uint8(255*heatmap), cv2.COLORMAP_JET)\n",
    "img = heatmap * INTENSITY + img_org\n",
    "cv2_imshow(img)\n"
   ]
  },
  {
   "cell_type": "markdown",
   "metadata": {
    "colab_type": "text",
    "id": "GLnJBZZDO1Jw"
   },
   "source": [
    "Displaying 3 heatmaps and their respective images for each of the 9 clusters using gradmap."
   ]
  },
  {
   "cell_type": "code",
   "execution_count": null,
   "metadata": {
    "colab": {},
    "colab_type": "code",
    "id": "wqW0I9kRxgSE"
   },
   "outputs": [],
   "source": [
    "from google.colab.patches import cv2_imshow\n",
    "path=\"/content/drive/My Drive/Colab Notebooks/Florence/20180917a_jpgs/\"\n",
    "clust=8\n",
    "n=3\n",
    "def gradmap():\n",
    "  for j in ['Zero','One','Two','Three','Four','Five','Six','Seven','Eight']:\n",
    "    p=path+j\n",
    "    files=os.listdir(p)\n",
    "    print(\"Cluster \"+j)\n",
    "    for i in range(n):\n",
    "      d=random.choice(files) \n",
    "      new_img = image.load_img(p+\"/\"+d, target_size=(224, 224))\n",
    "      new_img_tensor = image.img_to_array(new_img)\n",
    "      new_img_tensor_x1 = np.expand_dims(new_img_tensor, axis=0)\n",
    "      new_img_tensor_x1.shape\n",
    "      with tf.GradientTape() as tape:\n",
    "        layers = [layer.name for layer in model.layers if isinstance(layer, tf.keras.layers.Conv2D)]\n",
    "        last_conv_layer = model.get_layer(layers[-1])\n",
    "        iterate = tf.keras.models.Model([model.inputs], [model.output, last_conv_layer.output])\n",
    "        model_out, last_conv_layer = iterate(new_img_tensor_x1)\n",
    "      #class_out = model_out[:, np.argmax(model_out[0])]\n",
    "        grads = tape.gradient(model_out,last_conv_layer)\n",
    "        pooled_grads = K.mean(grads, axis=(0, 1, 2))\n",
    "      heatmap = tf.reduce_mean(tf.multiply(pooled_grads, last_conv_layer), axis=-1)\n",
    "      heatmap = np.maximum(heatmap, 0)\n",
    "      heatmap /= np.max(heatmap)\n",
    "      heatmap = heatmap.reshape((7, 7))\n",
    "      plt.matshow(heatmap)\n",
    "      plt.show()\n",
    "      #def gradmaping(d):\n",
    "      new_img_org = cv2.imread(p+\"/\"+d)\n",
    "      INTENSITY = 0.5\n",
    "      heatmap = cv2.resize(heatmap, (new_img_org.shape[1], new_img_org.shape[0]))\n",
    "      heatmap = cv2.applyColorMap(np.uint8(255*heatmap), cv2.COLORMAP_JET)\n",
    "      new_img = heatmap * INTENSITY + new_img_org\n",
    "      #im=cv2_imshow(new_img)\n",
    "      \n",
    "      scale_percent = 40 # percent of original size\n",
    "      width = int(new_img.shape[1] * scale_percent / 100) \n",
    "      height = int(new_img.shape[0] * scale_percent / 100) \n",
    "      dim = (width, height) \n",
    "\n",
    "      # resize image\n",
    "      resized = cv2.resize(new_img, dim, interpolation = cv2.INTER_AREA) \n",
    "\n",
    "      cv2_imshow(resized)\n",
    "      cv2.waitKey()\n",
    "    \n",
    " \n",
    "    "
   ]
  },
  {
   "cell_type": "code",
   "execution_count": null,
   "metadata": {
    "colab": {
     "base_uri": "https://localhost:8080/",
     "height": 1000
    },
    "colab_type": "code",
    "id": "l5WRz6Km7wiK",
    "outputId": "ca8a0d62-cf3e-4610-aa8d-644dd501b3d8"
   },
   "outputs": [],
   "source": [
    "gradmap()"
   ]
  },
  {
   "cell_type": "markdown",
   "metadata": {},
   "source": [
    "#### TSNE Plot"
   ]
  },
  {
   "cell_type": "code",
   "execution_count": null,
   "metadata": {
    "colab": {},
    "colab_type": "code",
    "id": "gVDc1w3_pEeQ"
   },
   "outputs": [],
   "source": [
    "from sklearn.manifold import TSNE\n",
    "tsne = TSNE().fit_transform(pred_images)\n"
   ]
  },
  {
   "cell_type": "code",
   "execution_count": null,
   "metadata": {
    "colab": {},
    "colab_type": "code",
    "id": "L_mIWakPzpRj"
   },
   "outputs": [],
   "source": [
    "tsne_components = pd.DataFrame(tsne,columns=['comp1','comp2'])"
   ]
  },
  {
   "cell_type": "code",
   "execution_count": null,
   "metadata": {
    "colab": {},
    "colab_type": "code",
    "id": "tUAn739d4Plo"
   },
   "outputs": [],
   "source": [
    "tsne_components['cluster']=k_means_labels"
   ]
  },
  {
   "cell_type": "code",
   "execution_count": null,
   "metadata": {
    "colab": {
     "base_uri": "https://localhost:8080/",
     "height": 542
    },
    "colab_type": "code",
    "id": "8zM71OSk4RQ2",
    "outputId": "ea44a389-cf9b-4df0-b97f-17497d151c52"
   },
   "outputs": [],
   "source": [
    "import plotly.express as px\n",
    "tsne_components[\"cluster\"] = tsne_components[\"cluster\"].astype(str)\n",
    "fig = px.scatter(tsne_components, x=\"comp1\", y=\"comp2\", color=\"cluster\",\n",
    "                  )\n",
    "\n",
    "fig.show()"
   ]
  },
  {
   "cell_type": "code",
   "execution_count": null,
   "metadata": {
    "colab": {},
    "colab_type": "code",
    "id": "BlkAEoxK527E"
   },
   "outputs": [],
   "source": []
  }
 ],
 "metadata": {
  "colab": {
   "collapsed_sections": [],
   "name": "Mobilenet.ipynb",
   "provenance": []
  },
  "kernelspec": {
   "display_name": "Python 3",
   "language": "python",
   "name": "python3"
  },
  "language_info": {
   "codemirror_mode": {
    "name": "ipython",
    "version": 3
   },
   "file_extension": ".py",
   "mimetype": "text/x-python",
   "name": "python",
   "nbconvert_exporter": "python",
   "pygments_lexer": "ipython3",
   "version": "3.7.4"
  }
 },
 "nbformat": 4,
 "nbformat_minor": 1
}
