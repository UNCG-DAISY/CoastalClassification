{
 "cells": [
  {
   "cell_type": "markdown",
   "metadata": {},
   "source": [
    "# Using encoder model to cluster images "
   ]
  },
  {
   "cell_type": "markdown",
   "metadata": {},
   "source": [
    "#### Importing libraries"
   ]
  },
  {
   "cell_type": "code",
   "execution_count": null,
   "metadata": {
    "colab": {
     "base_uri": "https://localhost:8080/",
     "height": 72
    },
    "colab_type": "code",
    "id": "MegRAtkYBi8G",
    "outputId": "0d19b7d4-22d3-4e1b-b2ef-51b88c2a5cfa"
   },
   "outputs": [],
   "source": [
    "import tensorflow as tf\n",
    "import tensorflow.keras as keras\n",
    "import tensorflow.keras.layers as layers\n",
    "import pandas as pd\n",
    "import numpy as np\n",
    "import os\n",
    "import matplotlib.pyplot as plt\n",
    "from sklearn.model_selection import train_test_split\n",
    "from sklearn.metrics import classification_report\n",
    "import keras\n",
    "from keras.models import Sequential\n",
    "from keras.layers import Dense, Dropout, Conv2D, MaxPool2D, UpSampling2D, Activation\n",
    "from keras import backend as K\n",
    "from sklearn.cluster import KMeans\n",
    "from sklearn.metrics import confusion_matrix\n",
    "import seaborn as sns"
   ]
  },
  {
   "cell_type": "code",
   "execution_count": null,
   "metadata": {
    "colab": {},
    "colab_type": "code",
    "id": "-wbecdKCByu9"
   },
   "outputs": [],
   "source": [
    "# Loading saved image data\n",
    "data = np.load('/content/drive/Shared drives/Coastal_Image_Analysis/Data/224resizedimagearray.npz')"
   ]
  },
  {
   "cell_type": "code",
   "execution_count": null,
   "metadata": {
    "colab": {},
    "colab_type": "code",
    "id": "x9qYM0D8B0uT"
   },
   "outputs": [],
   "source": [
    "data = data['arr_0']"
   ]
  },
  {
   "cell_type": "code",
   "execution_count": null,
   "metadata": {
    "colab": {},
    "colab_type": "code",
    "id": "1ro-AK2GB2fa"
   },
   "outputs": [],
   "source": [
    "#Splittin into train and test \n",
    "train, test = train_test_split(data, test_size=0.09, random_state=42, shuffle=True)"
   ]
  },
  {
   "cell_type": "code",
   "execution_count": null,
   "metadata": {
    "colab": {},
    "colab_type": "code",
    "id": "jPIzNDpqB5Lz"
   },
   "outputs": [],
   "source": [
    "# Splitting train into train and validate\n",
    "train, validate = train_test_split(train, test_size=0.1, random_state=42, shuffle=True)"
   ]
  },
  {
   "cell_type": "code",
   "execution_count": null,
   "metadata": {
    "colab": {
     "base_uri": "https://localhost:8080/",
     "height": 607
    },
    "colab_type": "code",
    "id": "6XsSwycAB665",
    "outputId": "33c76cd9-664d-4a26-c929-493da6f98e88"
   },
   "outputs": [],
   "source": [
    "# Build the autoencoder\n",
    "model = Sequential()\n",
    "model.add(Conv2D(14, kernel_size=3, padding='same', activation='relu', input_shape=(224,224,3)))\n",
    "model.add(MaxPool2D((2,2), padding='same'))\n",
    "model.add(Dropout(0.2))\n",
    "model.add(Conv2D(7, kernel_size=3, padding='same', activation='relu'))\n",
    "model.add(MaxPool2D((2,2), padding='same'))\n",
    "model.add(Dropout(0.2))\n",
    "model.add(Conv2D(7, kernel_size=3, padding='same', activation='relu'))\n",
    "model.add(UpSampling2D((2,2)))\n",
    "model.add(Dropout(0.2))\n",
    "model.add(Conv2D(14, kernel_size=3, padding='same', activation='relu'))\n",
    "model.add(UpSampling2D((2,2)))\n",
    "model.add(Dropout(0.2))\n",
    "model.add(Conv2D(3, kernel_size=3, padding='same', activation='relu'))\n",
    "\n",
    "model.compile(optimizer='Adagrad', loss=\"mse\")\n",
    "model.summary()"
   ]
  },
  {
   "cell_type": "code",
   "execution_count": null,
   "metadata": {
    "colab": {},
    "colab_type": "code",
    "id": "gjpJI-QIB9pb"
   },
   "outputs": [],
   "source": [
    "train = train.reshape(-1,224,224,3) / 255\n",
    "test = test.reshape(-1,224,224,3) / 255\n",
    "validate = validate.reshape(-1,224,224,3) / 255"
   ]
  },
  {
   "cell_type": "code",
   "execution_count": null,
   "metadata": {
    "colab": {},
    "colab_type": "code",
    "id": "Z63bHe5ZPBTW"
   },
   "outputs": [],
   "source": [
    "#Early stopping\n",
    "cb = keras.callbacks.EarlyStopping(monitor='val_loss',\n",
    "                              patience=2,\n",
    "                              )"
   ]
  },
  {
   "cell_type": "code",
   "execution_count": null,
   "metadata": {
    "colab": {
     "base_uri": "https://localhost:8080/",
     "height": 1000
    },
    "colab_type": "code",
    "id": "ZGd55op_B_2b",
    "outputId": "48174e28-755d-4660-ed6b-2cc0559a5d2d"
   },
   "outputs": [],
   "source": [
    "# Train the model\n",
    "model.fit(train, train, epochs=600, batch_size=64, validation_data=(validate, validate),callbacks=[cb])"
   ]
  },
  {
   "cell_type": "code",
   "execution_count": null,
   "metadata": {
    "colab": {},
    "colab_type": "code",
    "id": "QiNH_jGbV17e"
   },
   "outputs": [],
   "source": [
    "#Saving the model\n",
    "model.save(\"/content/drive/Shared drives/Coastal_Image_Analysis/Data/autoencoder_model1.h5\")"
   ]
  },
  {
   "cell_type": "code",
   "execution_count": null,
   "metadata": {
    "colab": {},
    "colab_type": "code",
    "id": "qDy-5NYmWIvY"
   },
   "outputs": [],
   "source": [
    "#Loading the model\n",
    "model = tf.keras.models.load_model('/content/drive/Shared drives/Coastal_Image_Analysis/Data/autoencoder_model1.h5')\n"
   ]
  },
  {
   "cell_type": "code",
   "execution_count": null,
   "metadata": {
    "colab": {},
    "colab_type": "code",
    "id": "zfT9l7ZbCCv2"
   },
   "outputs": [],
   "source": [
    "restored_testing_dataset = model.predict(test)"
   ]
  },
  {
   "cell_type": "code",
   "execution_count": null,
   "metadata": {
    "colab": {
     "base_uri": "https://localhost:8080/",
     "height": 287
    },
    "colab_type": "code",
    "id": "jgSqiNBdNo5Z",
    "outputId": "f247d3bb-1f57-4c16-f101-1952db07b679"
   },
   "outputs": [],
   "source": [
    "plt.imshow(test[5])"
   ]
  },
  {
   "cell_type": "code",
   "execution_count": null,
   "metadata": {
    "colab": {},
    "colab_type": "code",
    "id": "hcfEtffiOz6c"
   },
   "outputs": [],
   "source": [
    "#Creating an encoder \n",
    "encoder = K.function([model.layers[0].input], [model.layers[4].output])"
   ]
  },
  {
   "cell_type": "code",
   "execution_count": null,
   "metadata": {
    "colab": {},
    "colab_type": "code",
    "id": "ISWb5hU5T_2J"
   },
   "outputs": [],
   "source": [
    "# Encode the training set\n",
    "encoded_images = encoder([data[:1500]])[0].reshape(-1,56*56*7)\n"
   ]
  },
  {
   "cell_type": "code",
   "execution_count": null,
   "metadata": {
    "colab": {},
    "colab_type": "code",
    "id": "JR7_dHVVBW5r"
   },
   "outputs": [],
   "source": [
    "encoded_images1 = encoder([data[1501:2500]])[0].reshape(-1,56*56*7)\n"
   ]
  },
  {
   "cell_type": "code",
   "execution_count": null,
   "metadata": {
    "colab": {},
    "colab_type": "code",
    "id": "qTWG9xIyBeei"
   },
   "outputs": [],
   "source": [
    "encoded_images2 = encoder([data[2501:]])[0].reshape(-1,56*56*7)"
   ]
  },
  {
   "cell_type": "code",
   "execution_count": null,
   "metadata": {
    "colab": {},
    "colab_type": "code",
    "id": "PC3eFPUZaTVI"
   },
   "outputs": [],
   "source": [
    "encoded=np.append(encoded_images,encoded_images1,axis=0)"
   ]
  },
  {
   "cell_type": "code",
   "execution_count": null,
   "metadata": {
    "colab": {},
    "colab_type": "code",
    "id": "tHLX-8jPdTsG"
   },
   "outputs": [],
   "source": [
    "encoded_imgs=np.append(encoded,encoded_images2,axis=0)"
   ]
  },
  {
   "cell_type": "code",
   "execution_count": null,
   "metadata": {
    "colab": {
     "base_uri": "https://localhost:8080/",
     "height": 35
    },
    "colab_type": "code",
    "id": "EdQ8_qL0Uo7P",
    "outputId": "8a5271e6-d36b-4ccd-c7e0-effd7b90d2fd"
   },
   "outputs": [],
   "source": [
    "#Applying kmeans\n",
    "kmeans = KMeans(n_clusters=10)\n",
    "kmeans.fit_predict(encoded_imgs)"
   ]
  },
  {
   "cell_type": "code",
   "execution_count": null,
   "metadata": {
    "colab": {},
    "colab_type": "code",
    "id": "Zqzj3iQcUuPN"
   },
   "outputs": [],
   "source": [
    " k_means_labels = kmeans.labels_"
   ]
  },
  {
   "cell_type": "code",
   "execution_count": null,
   "metadata": {
    "colab": {},
    "colab_type": "code",
    "id": "dtwU2td4U4rw"
   },
   "outputs": [],
   "source": [
    "G = len(np.unique(k_means_labels)) #Number of labels\n",
    "\n",
    "#2D matrix  for an array of indexes of the given label\n",
    "cluster_index= [[] for i in range(G)]\n",
    "for i, label in enumerate(k_means_labels,0):\n",
    "    for n in range(G):\n",
    "        if label == n:\n",
    "            cluster_index[n].append(i)\n",
    "        else:\n",
    "            continue"
   ]
  },
  {
   "cell_type": "code",
   "execution_count": null,
   "metadata": {
    "colab": {
     "base_uri": "https://localhost:8080/",
     "height": 1000
    },
    "colab_type": "code",
    "id": "rPG87dWJU9ID",
    "outputId": "77f3ea18-777a-4d75-8907-15fab4073bd8"
   },
   "outputs": [],
   "source": [
    "#Visualisation for clusters = clust\n",
    "clust = 10\n",
    "num = 9 #num of data to visualize from the cluster\n",
    "for j in range(0,clust):\n",
    "  plt.figure(figsize=(20,20))\n",
    "  #plt.clf()\n",
    "  print('Cluster '+str(j))\n",
    "  for i in range(1,num+1):\n",
    "    plt.subplot(7, 7, i) #(Number of rows, Number of column per row, item number)\n",
    "    plt.imshow(data[cluster_index[j][i]].reshape(224,224,3))     \n",
    "  plt.show()"
   ]
  },
  {
   "cell_type": "markdown",
   "metadata": {},
   "source": [
    "#### TSNE visualisation using plotly"
   ]
  },
  {
   "cell_type": "code",
   "execution_count": null,
   "metadata": {
    "colab": {},
    "colab_type": "code",
    "id": "LMxeBNvtVD3I"
   },
   "outputs": [],
   "source": [
    "from sklearn.manifold import TSNE"
   ]
  },
  {
   "cell_type": "code",
   "execution_count": null,
   "metadata": {
    "colab": {},
    "colab_type": "code",
    "id": "CuFUZUPsCmf4"
   },
   "outputs": [],
   "source": [
    "data2=np.array(np.float32(encoded_imgs).reshape(len(encoded_imgs), -1)/255)"
   ]
  },
  {
   "cell_type": "code",
   "execution_count": null,
   "metadata": {
    "colab": {},
    "colab_type": "code",
    "id": "CPJQtjl0CsEa"
   },
   "outputs": [],
   "source": [
    "tsne = TSNE().fit_transform(data2)\n"
   ]
  },
  {
   "cell_type": "code",
   "execution_count": null,
   "metadata": {
    "colab": {},
    "colab_type": "code",
    "id": "XVhnl60BCuCT"
   },
   "outputs": [],
   "source": [
    "tsne_components = pd.DataFrame(tsne,columns=['comp1','comp2'])"
   ]
  },
  {
   "cell_type": "code",
   "execution_count": null,
   "metadata": {
    "colab": {},
    "colab_type": "code",
    "id": "Z_gB9CRzC0rE"
   },
   "outputs": [],
   "source": [
    "tsne_components['cluster']=k_means_labels"
   ]
  },
  {
   "cell_type": "code",
   "execution_count": null,
   "metadata": {
    "colab": {},
    "colab_type": "code",
    "id": "GPcY6__4C1_A"
   },
   "outputs": [],
   "source": [
    "import plotly.express as px"
   ]
  },
  {
   "cell_type": "code",
   "execution_count": null,
   "metadata": {
    "colab": {
     "base_uri": "https://localhost:8080/",
     "height": 542
    },
    "colab_type": "code",
    "id": "U0KriaezC50z",
    "outputId": "5f9e1bfd-be91-400b-de59-79d2a7f751d7"
   },
   "outputs": [],
   "source": [
    "\n",
    "tsne_components[\"cluster\"] = tsne_components[\"cluster\"].astype(str)\n",
    "fig = px.scatter(tsne_components, x=\"comp1\", y=\"comp2\", color=\"cluster\",\n",
    "                  )\n",
    "\n",
    "fig.show()"
   ]
  },
  {
   "cell_type": "code",
   "execution_count": null,
   "metadata": {
    "colab": {},
    "colab_type": "code",
    "id": "y3P9P4B5FA7s"
   },
   "outputs": [],
   "source": []
  }
 ],
 "metadata": {
  "accelerator": "GPU",
  "colab": {
   "collapsed_sections": [],
   "name": "Encoder_image.ipynb",
   "provenance": []
  },
  "kernelspec": {
   "display_name": "Python 3",
   "language": "python",
   "name": "python3"
  },
  "language_info": {
   "codemirror_mode": {
    "name": "ipython",
    "version": 3
   },
   "file_extension": ".py",
   "mimetype": "text/x-python",
   "name": "python",
   "nbconvert_exporter": "python",
   "pygments_lexer": "ipython3",
   "version": "3.7.4"
  }
 },
 "nbformat": 4,
 "nbformat_minor": 1
}
